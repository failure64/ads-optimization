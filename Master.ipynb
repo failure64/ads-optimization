{
  "nbformat": 4,
  "nbformat_minor": 0,
  "metadata": {
    "colab": {
      "provenance": [],
      "authorship_tag": "ABX9TyNmRM8xbY8RHQgr5Xt6zFys",
      "include_colab_link": true
    },
    "kernelspec": {
      "name": "python3",
      "display_name": "Python 3"
    },
    "language_info": {
      "name": "python"
    }
  },
  "cells": [
    {
      "cell_type": "markdown",
      "metadata": {
        "id": "view-in-github",
        "colab_type": "text"
      },
      "source": [
        "<a href=\"https://colab.research.google.com/github/failure64/ads-optimization/blob/main/Master.ipynb\" target=\"_parent\"><img src=\"https://colab.research.google.com/assets/colab-badge.svg\" alt=\"Open In Colab\"/></a>"
      ]
    },
    {
      "cell_type": "markdown",
      "source": [
        "\n",
        "# Data Preprocessing\n",
        "\n",
        "### Importing dataset and libraries"
      ],
      "metadata": {
        "id": "scR7Br7q_H5e"
      }
    },
    {
      "cell_type": "code",
      "execution_count": 10,
      "metadata": {
        "id": "qE94-i3Z3d7P"
      },
      "outputs": [],
      "source": [
        "import numpy as np\n",
        "import matplotlib.pyplot as plt\n",
        "import pandas as pd"
      ]
    },
    {
      "cell_type": "code",
      "source": [
        "data_set=pd.read_csv('final dataset.csv')"
      ],
      "metadata": {
        "id": "iBHk4EsWAI0m"
      },
      "execution_count": 11,
      "outputs": []
    },
    {
      "cell_type": "markdown",
      "source": [
        "### Handling Missing Data"
      ],
      "metadata": {
        "id": "ZL7EAW6gCmc1"
      }
    },
    {
      "cell_type": "code",
      "source": [
        "from sklearn.impute import SimpleImputer\n",
        "imputer = SimpleImputer(missing_values = np.nan, strategy =\"constant\")"
      ],
      "metadata": {
        "id": "x3hRv8UrAIst"
      },
      "execution_count": 6,
      "outputs": []
    },
    {
      "cell_type": "markdown",
      "source": [
        "### Encoding Categorical Data & Feature Scaling\n",
        "\n",
        "not possible in our case"
      ],
      "metadata": {
        "id": "Ba6hJpfP_1bR"
      }
    },
    {
      "cell_type": "markdown",
      "source": [
        "### Spliting into test amd training data\n",
        "Standard 70:30 split"
      ],
      "metadata": {
        "id": "IPjQZSRKED0B"
      }
    },
    {
      "cell_type": "markdown",
      "source": [
        "# Upper Confidence Bound\n",
        "\n",
        "### Multi Armed Bandit Problem (To be Explained)"
      ],
      "metadata": {
        "id": "TsldpHYvlerI"
      }
    },
    {
      "cell_type": "code",
      "source": [
        "import math as m\n",
        "T= 15000\n",
        "num_ads =10\n",
        "ads_selected=[]\n",
        "\n",
        "number_of_selections = [0] * num_ads\n",
        "sum_of_rewards = [0] * num_ads\n",
        "total_rewards = 0\n"
      ],
      "metadata": {
        "id": "AFTQD1AuAIed"
      },
      "execution_count": 27,
      "outputs": []
    },
    {
      "cell_type": "code",
      "source": [
        "for n in range(0,T): #over rows\n",
        "  ad=0\n",
        "  max_upper_confidence_bound =0\n",
        "  for i in range(0,num_ads):\n",
        "    if (number_of_selections[i] > 0):\n",
        "      average_reward = sum_of_rewards[i] / number_of_selections[i]\n",
        "      delta_i = m.sqrt(3/2 * m.log(n+1) / number_of_selections[i])\n",
        "      upper_confidence_bound = average_reward + delta_i\n",
        "    else:\n",
        "      upper_confidence_bound = 1e400\n",
        "    if(upper_confidence_bound > max_upper_confidence_bound):\n",
        "      max_upper_confidence_bound = upper_confidence_bound\n",
        "      ad=i\n",
        "  ads_selected.append(ad)\n",
        "  number_of_selections[ad] = number_of_selections[ad] +1\n",
        "  temp_reward = data_set.values[n,ad]\n",
        "  sum_of_rewards[ad] = sum_of_rewards[ad] + temp_reward\n",
        "  total_rewards = total_rewards+temp_reward"
      ],
      "metadata": {
        "id": "4ENjoD6fAITt"
      },
      "execution_count": 28,
      "outputs": []
    },
    {
      "cell_type": "markdown",
      "source": [
        "Visulization"
      ],
      "metadata": {
        "id": "t8XWLjlgGXch"
      }
    },
    {
      "cell_type": "code",
      "source": [
        "plt.hist(ads_selected)\n",
        "plt.title('Hisotogram of Ads Selection')\n",
        "plt.xlabel(\"Ad Number\")\n",
        "plt.ylabel('Selection times of each ad')\n",
        "plt.show()"
      ],
      "metadata": {
        "colab": {
          "base_uri": "https://localhost:8080/",
          "height": 472
        },
        "id": "jmOn_gU5GfCT",
        "outputId": "721fc25b-a082-4b66-b59c-92e98f625db1"
      },
      "execution_count": 29,
      "outputs": [
        {
          "output_type": "display_data",
          "data": {
            "text/plain": [
              "<Figure size 640x480 with 1 Axes>"
            ],
            "image/png": "[encoded data removed]"
          },
          "metadata": {}
        }
      ]
    }
  ]
}