{
  "nbformat": 4,
  "nbformat_minor": 0,
  "metadata": {
    "colab": {
      "provenance": [],
      "authorship_tag": "ABX9TyPn1lB85ncCXBOwDuXvDvpk",
      "include_colab_link": true
    },
    "kernelspec": {
      "name": "python3",
      "display_name": "Python 3"
    },
    "language_info": {
      "name": "python"
    }
  },
  "cells": [
    {
      "cell_type": "markdown",
      "metadata": {
        "id": "view-in-github",
        "colab_type": "text"
      },
      "source": [
        "<a href=\"https://colab.research.google.com/github/failure64/ads-optimization/blob/main/Master.ipynb\" target=\"_parent\"><img src=\"https://colab.research.google.com/assets/colab-badge.svg\" alt=\"Open In Colab\"/></a>"
      ]
    },
    {
      "cell_type": "markdown",
      "source": [
        "\n",
        "# Data Preprocessing\n",
        "\n",
        "### Importing dataset and libraries"
      ],
      "metadata": {
        "id": "scR7Br7q_H5e"
      }
    },
    {
      "cell_type": "code",
      "execution_count": 1,
      "metadata": {
        "id": "qE94-i3Z3d7P"
      },
      "outputs": [],
      "source": [
        "import numpy as np\n",
        "import matplotlib.pyplot as plt\n",
        "import pandas as pd"
      ]
    },
    {
      "cell_type": "code",
      "source": [
        "data_set=pd.read_csv('final dataset.csv')\n",
        "X = data_set.iloc[:, :-1].values\n",
        "y = data_set.iloc[:, -1].values"
      ],
      "metadata": {
        "id": "iBHk4EsWAI0m"
      },
      "execution_count": 5,
      "outputs": []
    },
    {
      "cell_type": "code",
      "source": [
        "print(data_set)"
      ],
      "metadata": {
        "colab": {
          "base_uri": "https://localhost:8080/"
        },
        "id": "OG9lSLxGpG4r",
        "outputId": "d9b15c3e-1a82-4e83-d76b-511ffb598725"
      },
      "execution_count": 6,
      "outputs": [
        {
          "output_type": "stream",
          "name": "stdout",
          "text": [
            "       Advertisement 1  Advertisement 2  Advertisement 3  Advertisement 4  \\\n",
            "0                  NaN                0                0                1   \n",
            "1                  0.0                1                0                1   \n",
            "2                  0.0                0                0                1   \n",
            "3                  1.0                0                0                0   \n",
            "4                  NaN                0                0                0   \n",
            "...                ...              ...              ...              ...   \n",
            "14995              1.0                1                0                0   \n",
            "14996              0.0                1                0                1   \n",
            "14997              0.0                0                0                0   \n",
            "14998              0.0                0                0                0   \n",
            "14999              0.0                0                0                0   \n",
            "\n",
            "       Advertisement 5  Advertisement 6  Advertisement 7  Advertisement 8  \\\n",
            "0                    0                1                0                0   \n",
            "1                    0                0                0                0   \n",
            "2                    0                0                1                0   \n",
            "3                    0                0                0                0   \n",
            "4                    0                0                0                0   \n",
            "...                ...              ...              ...              ...   \n",
            "14995                0                0                0                0   \n",
            "14996                0                0                0                0   \n",
            "14997                0                0                0                0   \n",
            "14998                0                0                0                0   \n",
            "14999                0                0                0                0   \n",
            "\n",
            "       Advertisement 9  Advertisement 10  \n",
            "0                    0                 0  \n",
            "1                    1                 0  \n",
            "2                    0                 0  \n",
            "3                    0                 0  \n",
            "4                    0                 0  \n",
            "...                ...               ...  \n",
            "14995                0                 0  \n",
            "14996                0                 0  \n",
            "14997                0                 0  \n",
            "14998                1                 0  \n",
            "14999                0                 0  \n",
            "\n",
            "[15000 rows x 10 columns]\n"
          ]
        }
      ]
    },
    {
      "cell_type": "markdown",
      "source": [
        "### Handling Missing Data"
      ],
      "metadata": {
        "id": "ZL7EAW6gCmc1"
      }
    },
    {
      "cell_type": "code",
      "source": [
        "from sklearn.impute import SimpleImputer\n",
        "imputer = SimpleImputer(missing_values = np.nan, strategy =\"constant\")\n",
        "\n",
        "imputer.fit(X[:, 0:1])\n",
        "X[: , 0:1] = imputer.transform(X[:, 0:1])\n",
        "print(X)"
      ],
      "metadata": {
        "id": "x3hRv8UrAIst",
        "colab": {
          "base_uri": "https://localhost:8080/"
        },
        "outputId": "4d03b6e4-2773-46b4-ce6a-0a262070d095"
      },
      "execution_count": 7,
      "outputs": [
        {
          "output_type": "stream",
          "name": "stdout",
          "text": [
            "[[0. 0. 0. ... 0. 0. 0.]\n",
            " [0. 1. 0. ... 0. 0. 1.]\n",
            " [0. 0. 0. ... 1. 0. 0.]\n",
            " ...\n",
            " [0. 0. 0. ... 0. 0. 0.]\n",
            " [0. 0. 0. ... 0. 0. 1.]\n",
            " [0. 0. 0. ... 0. 0. 0.]]\n"
          ]
        }
      ]
    },
    {
      "cell_type": "markdown",
      "source": [
        "### Encoding Categorical Data & Feature Scaling & Splitting\n",
        "\n",
        "not possible in our case as we dont want to predict but we want to classify"
      ],
      "metadata": {
        "id": "Ba6hJpfP_1bR"
      }
    },
    {
      "cell_type": "markdown",
      "source": [
        "# Upper Confidence Bound\n",
        "\n",
        "### Multi Armed Bandit Problem (To be Explained)"
      ],
      "metadata": {
        "id": "TsldpHYvlerI"
      }
    },
    {
      "cell_type": "code",
      "source": [
        "import math as m\n",
        "T= 15000\n",
        "num_ads =10\n",
        "ads_selected=[]\n",
        "\n",
        "number_of_selections = [0] * num_ads\n",
        "sum_of_rewards = [0] * num_ads\n",
        "total_rewards = 0\n"
      ],
      "metadata": {
        "id": "AFTQD1AuAIed"
      },
      "execution_count": 8,
      "outputs": []
    },
    {
      "cell_type": "code",
      "source": [
        "for n in range(0,T): #over rows\n",
        "  ad=0\n",
        "  max_upper_confidence_bound =0\n",
        "  for i in range(0,num_ads):\n",
        "    if (number_of_selections[i] > 0):\n",
        "      average_reward = sum_of_rewards[i] / number_of_selections[i]\n",
        "      delta_i = m.sqrt(3/2 * m.log(n+1) / number_of_selections[i])\n",
        "      upper_confidence_bound = average_reward + delta_i\n",
        "    else:\n",
        "      upper_confidence_bound = 1e400\n",
        "    if(upper_confidence_bound > max_upper_confidence_bound):\n",
        "      max_upper_confidence_bound = upper_confidence_bound\n",
        "      ad=i\n",
        "  ads_selected.append(ad)\n",
        "  number_of_selections[ad] = number_of_selections[ad] +1\n",
        "  temp_reward = data_set.values[n,ad]\n",
        "  sum_of_rewards[ad] = sum_of_rewards[ad] + temp_reward\n",
        "  total_rewards = total_rewards+temp_reward"
      ],
      "metadata": {
        "id": "4ENjoD6fAITt"
      },
      "execution_count": 9,
      "outputs": []
    },
    {
      "cell_type": "markdown",
      "source": [
        "Visulization"
      ],
      "metadata": {
        "id": "t8XWLjlgGXch"
      }
    },
    {
      "cell_type": "code",
      "source": [
        "plt.hist(ads_selected)\n",
        "plt.title('Hisotogram of Ads Selection')\n",
        "plt.xlabel(\"Ad Number\")\n",
        "plt.ylabel('Selection times of each ad')\n",
        "plt.show()"
      ],
      "metadata": {
        "colab": {
          "base_uri": "https://localhost:8080/",
          "height": 472
        },
        "id": "jmOn_gU5GfCT",
        "outputId": "424cd4f6-c455-4ac8-b4b5-f24c379ff876"
      },
      "execution_count": 10,
      "outputs": [
        {
          "output_type": "display_data",
          "data": {
            "text/plain": [
              "<Figure size 640x480 with 1 Axes>"
            ],
            "image/png": "[encoded data removed]"
          },
          "metadata": {}
        }
      ]
    }
  ]
}