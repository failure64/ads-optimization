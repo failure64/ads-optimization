{
  "nbformat": 4,
  "nbformat_minor": 0,
  "metadata": {
    "colab": {
      "provenance": [],
      "authorship_tag": "ABX9TyPoQG/vC4OC0BD6V8WOlmQm",
      "include_colab_link": true
    },
    "kernelspec": {
      "name": "python3",
      "display_name": "Python 3"
    },
    "language_info": {
      "name": "python"
    }
  },
  "cells": [
    {
      "cell_type": "markdown",
      "metadata": {
        "id": "view-in-github",
        "colab_type": "text"
      },
      "source": [
        "<a href=\"https://colab.research.google.com/github/failure64/ads-optimization/blob/main/Master.ipynb\" target=\"_parent\"><img src=\"https://colab.research.google.com/assets/colab-badge.svg\" alt=\"Open In Colab\"/></a>"
      ]
    },
    {
      "cell_type": "markdown",
      "source": [
        "\n",
        "# Data Preprocessing\n",
        "\n",
        "### Importing dataset and libraries"
      ],
      "metadata": {
        "id": "scR7Br7q_H5e"
      }
    },
    {
      "cell_type": "code",
      "execution_count": 1,
      "metadata": {
        "id": "qE94-i3Z3d7P"
      },
      "outputs": [],
      "source": [
        "import numpy as np\n",
        "import matplotlib.pyplot as plt\n",
        "import pandas as pd"
      ]
    },
    {
      "cell_type": "code",
      "source": [
        "data_set=pd.read_csv('final dataset.csv')\n",
        "X =  data_set.iloc[:,:-1].values\n",
        "Y =  data_set.iloc[:,-1].values"
      ],
      "metadata": {
        "id": "iBHk4EsWAI0m"
      },
      "execution_count": 31,
      "outputs": []
    },
    {
      "cell_type": "code",
      "source": [
        "print(\"X\")\n",
        "print(X)\n",
        "print(\"Y\")\n",
        "print(Y)"
      ],
      "metadata": {
        "colab": {
          "base_uri": "https://localhost:8080/"
        },
        "id": "1HHhIKtcAIxT",
        "outputId": "46a9ed6b-ba9f-45af-c70d-ecfa065b365b"
      },
      "execution_count": 32,
      "outputs": [
        {
          "output_type": "stream",
          "name": "stdout",
          "text": [
            "X\n",
            "[[0 0 0 ... 0 0 0]\n",
            " [0 1 0 ... 0 0 1]\n",
            " [0 0 0 ... 1 0 0]\n",
            " ...\n",
            " [0 0 0 ... 0 0 0]\n",
            " [0 0 0 ... 0 0 1]\n",
            " [0 0 0 ... 0 0 0]]\n",
            "Y\n",
            "[0 0 0 ... 0 0 0]\n"
          ]
        }
      ]
    },
    {
      "cell_type": "markdown",
      "source": [
        "### Handling Missing Data"
      ],
      "metadata": {
        "id": "ZL7EAW6gCmc1"
      }
    },
    {
      "cell_type": "code",
      "source": [
        "from sklearn.impute import SimpleImputer\n",
        "imputer = SimpleImputer(missing_values = np.nan, strategy =\"constant\")\n",
        "\n",
        "imputer.fit(X[:, 0:1]) #all rows but only first column\n",
        "X[: , 0:1] = imputer.transform(X[:, 0:1])"
      ],
      "metadata": {
        "id": "x3hRv8UrAIst"
      },
      "execution_count": 33,
      "outputs": []
    },
    {
      "cell_type": "code",
      "source": [
        "print(\"Data after imputation\")\n",
        "print(X)"
      ],
      "metadata": {
        "id": "w-ZGGgyFAIiu",
        "colab": {
          "base_uri": "https://localhost:8080/"
        },
        "outputId": "65c8904d-217b-4f5c-cf8b-5d96f7371f13"
      },
      "execution_count": 34,
      "outputs": [
        {
          "output_type": "stream",
          "name": "stdout",
          "text": [
            "Data after imputation\n",
            "[[0 0 0 ... 0 0 0]\n",
            " [0 1 0 ... 0 0 1]\n",
            " [0 0 0 ... 1 0 0]\n",
            " ...\n",
            " [0 0 0 ... 0 0 0]\n",
            " [0 0 0 ... 0 0 1]\n",
            " [0 0 0 ... 0 0 0]]\n"
          ]
        }
      ]
    },
    {
      "cell_type": "markdown",
      "source": [
        "### Encoding Categorical Data & Feature Scaling\n",
        "\n",
        "not possible in our case"
      ],
      "metadata": {
        "id": "Ba6hJpfP_1bR"
      }
    },
    {
      "cell_type": "markdown",
      "source": [
        "### Spliting into test amd training data\n",
        "Standard 70:30 split"
      ],
      "metadata": {
        "id": "IPjQZSRKED0B"
      }
    },
    {
      "cell_type": "code",
      "source": [
        "from sklearn.model_selection import train_test_split\n",
        "X_train, X_test, Y_train, Y_test = train_test_split(X, Y, test_size = 0.3, random_state = 40)"
      ],
      "metadata": {
        "id": "2v9W1_f-EDZz"
      },
      "execution_count": 35,
      "outputs": []
    },
    {
      "cell_type": "code",
      "source": [
        "print(len(X))\n",
        "print(len(X_train))\n",
        "print(len(X_test))"
      ],
      "metadata": {
        "id": "foiM28-aAIhp",
        "colab": {
          "base_uri": "https://localhost:8080/"
        },
        "outputId": "c661d2e2-4505-485e-cf14-293070a8a9fd"
      },
      "execution_count": 38,
      "outputs": [
        {
          "output_type": "stream",
          "name": "stdout",
          "text": [
            "15000\n",
            "10500\n",
            "4500\n"
          ]
        }
      ]
    },
    {
      "cell_type": "code",
      "source": [],
      "metadata": {
        "id": "AFTQD1AuAIed",
        "colab": {
          "base_uri": "https://localhost:8080/"
        },
        "outputId": "1e866c85-c8ea-4574-f272-8b7193ba260e"
      },
      "execution_count": 39,
      "outputs": [
        {
          "output_type": "stream",
          "name": "stdout",
          "text": [
            "15000\n",
            "10500\n",
            "4500\n"
          ]
        }
      ]
    },
    {
      "cell_type": "code",
      "source": [],
      "metadata": {
        "id": "4ENjoD6fAITt"
      },
      "execution_count": null,
      "outputs": []
    }
  ]
}